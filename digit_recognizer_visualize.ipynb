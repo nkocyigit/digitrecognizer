{
 "cells": [
  {
   "cell_type": "code",
   "execution_count": 25,
   "metadata": {
    "collapsed": true
   },
   "outputs": [],
   "source": [
    "# nihat kocyigit [nihatkoc@gmail.com] [@nihat_developer]\n",
    "# this application visualizes famous hand written digit dataset from kaggle.com\n",
    "# in order to run application \n",
    "# train.csv [https://www.kaggle.com/c/digit-recognizer/download/train.csv]\n",
    "# test.csv  [https://www.kaggle.com/c/digit-recognizer/download/test.csv]\n",
    "# files should be downloaded and saved under \"dataset\" directory\n",
    "# code will make a directory called \"digits\" and will save all digit images\n",
    "# under \"digits\" directory in .png format\n"
   ]
  },
  {
   "cell_type": "code",
   "execution_count": 4,
   "metadata": {
    "collapsed": false
   },
   "outputs": [
    {
     "name": "stdout",
     "output_type": "stream",
     "text": [
      "data load ok ...\n"
     ]
    }
   ],
   "source": [
    "# load data and remove header row (cell titles)\n",
    "# there are 42000 rows and 785 columns in train.csv file\n",
    "# each row represents data for one training sample\n",
    "# each training sample (hand written digit image) is 28x28 pixel size\n",
    "# 28 x 28 = 784 pixels, each cell contains one pixel data in range of [0..255]\n",
    "# first cell of each row represents digit number\n",
    "# eg. 8,0,0,123,122,120...... -> each pixel data is given for hand written digit 8\n",
    "\n",
    "import numpy as np\n",
    "import csv\n",
    "\n",
    "# load comma seperated csv data into numpy array\n",
    "digit_data = np.genfromtxt('dataset/train.csv', delimiter=',')\n",
    "# first row contains title labels eg. \"pixel0\",\"pixel1\"....\"pixel784\", we will remove it\n",
    "digit_data = np.delete(digit_data,0,0)\n",
    "\n",
    "print(\"data load ok ...\")"
   ]
  },
  {
   "cell_type": "code",
   "execution_count": 41,
   "metadata": {
    "collapsed": false
   },
   "outputs": [
    {
     "name": "stdout",
     "output_type": "stream",
     "text": [
      "00152/42000\n"
     ]
    },
    {
     "data": {
      "image/png": "[encoded data removed]",
      "text/plain": [
       "<IPython.core.display.Image object>"
      ]
     },
     "metadata": {},
     "output_type": "display_data"
    },
    {
     "ename": "KeyboardInterrupt",
     "evalue": "",
     "output_type": "error",
     "traceback": [
      "\u001b[1;31m---------------------------------------------------------------------------\u001b[0m",
      "\u001b[1;31mKeyboardInterrupt\u001b[0m                         Traceback (most recent call last)",
      "\u001b[1;32m<ipython-input-41-4338ca29ff39>\u001b[0m in \u001b[0;36m<module>\u001b[1;34m()\u001b[0m\n\u001b[0;32m     35\u001b[0m     \u001b[0mmisc\u001b[0m\u001b[1;33m.\u001b[0m\u001b[0mimsave\u001b[0m\u001b[1;33m(\u001b[0m\u001b[1;34m\"digits/%01d_%04d.png\"\u001b[0m \u001b[1;33m%\u001b[0m\u001b[1;33m(\u001b[0m\u001b[0mdigit_name\u001b[0m\u001b[1;33m,\u001b[0m \u001b[0mdigit_sample_counter\u001b[0m\u001b[1;33m[\u001b[0m\u001b[0mdigit_name\u001b[0m\u001b[1;33m]\u001b[0m\u001b[1;33m)\u001b[0m\u001b[1;33m,\u001b[0m \u001b[0mrow_data\u001b[0m\u001b[1;33m)\u001b[0m\u001b[1;33m\u001b[0m\u001b[0m\n\u001b[0;32m     36\u001b[0m     \u001b[1;31m# for showing the progress print the processed row count with a small time delay\u001b[0m\u001b[1;33m\u001b[0m\u001b[1;33m\u001b[0m\u001b[0m\n\u001b[1;32m---> 37\u001b[1;33m     \u001b[0mtime\u001b[0m\u001b[1;33m.\u001b[0m\u001b[0msleep\u001b[0m\u001b[1;33m(\u001b[0m\u001b[1;36m0.100\u001b[0m\u001b[1;33m)\u001b[0m\u001b[1;33m\u001b[0m\u001b[0m\n\u001b[0m\u001b[0;32m     38\u001b[0m     \u001b[0mclear_output\u001b[0m\u001b[1;33m(\u001b[0m\u001b[0mwait\u001b[0m\u001b[1;33m=\u001b[0m\u001b[0mTrue\u001b[0m\u001b[1;33m)\u001b[0m\u001b[1;33m\u001b[0m\u001b[0m\n\u001b[0;32m     39\u001b[0m     \u001b[1;32mprint\u001b[0m \u001b[1;34m\"%05d/%05d\"\u001b[0m \u001b[1;33m%\u001b[0m\u001b[1;33m(\u001b[0m\u001b[1;33m(\u001b[0m\u001b[0mi\u001b[0m\u001b[1;33m+\u001b[0m\u001b[1;36m1\u001b[0m\u001b[1;33m)\u001b[0m\u001b[1;33m,\u001b[0m\u001b[0msample_count\u001b[0m\u001b[1;33m)\u001b[0m\u001b[1;33m\u001b[0m\u001b[0m\n",
      "\u001b[1;31mKeyboardInterrupt\u001b[0m: "
     ]
    }
   ],
   "source": [
    "from scipy import misc\n",
    "import shutil\n",
    "import time\n",
    "import os\n",
    "from IPython.display import display, clear_output, Image\n",
    "import numpy as np\n",
    "\n",
    "IMG_PIXEL_WIDTH  = 28\n",
    "IMG_PIXEL_HEIGHT = 28\n",
    "\n",
    "# a counter for counting samples per digit\n",
    "digit_sample_counter = np.array([0,0,0,0,0,0,0,0,0,0])\n",
    "\n",
    "# will store generated images under \"digits\" directory\n",
    "# if directory already exists then remove it\n",
    "if(os.path.exists(\"digits\")):\n",
    "    shutil.rmtree(\"digits\")\n",
    "\n",
    "# create directory of \"digits\"\n",
    "os.makedirs(\"digits\")\n",
    "\n",
    "# number of images given in train.csv\n",
    "sample_count = len(digit_data)\n",
    "\n",
    "for i in range(0,sample_count):\n",
    "    # first cell of row contains digit name eg. 8\n",
    "    # convert the data to integer\n",
    "    digit_name = int(digit_data[i,0])\n",
    "    # increment the counter for given digit\n",
    "    digit_sample_counter[digit_name] = digit_sample_counter[digit_name] + 1\n",
    "    # load row data from digit_data starting from index 1 to the end, all pixel data of the image\n",
    "    # also shape the numpy array according to IMG_PIXEL_HEIGHT and IMG_PIXEL_WIDTH\n",
    "    row_data = digit_data[i,1:,].reshape((IMG_PIXEL_HEIGHT,IMG_PIXEL_WIDTH))\n",
    "    # save the image in png format\n",
    "    misc.imsave(\"digits/%01d_%04d.png\" %(digit_name, digit_sample_counter[digit_name]), row_data)\n",
    "    # for showing the progress print the processed row count with a small time delay\n",
    "    time.sleep(0.100)\n",
    "    clear_output(wait=True)\n",
    "    print \"%05d/%05d\" %((i+1),sample_count)\n",
    "    # if you want to preview image while saving it uncomment following lines\n",
    "    # also delay time should be updated according to image preview process\n",
    "    #imgfile = 'digits/%01d_%04d.png' %(digit_name, digit_sample_counter[digit_name])\n",
    "    #display(Image(filename=imgfile))\n",
    "    "
   ]
  }
 ],
 "metadata": {
  "kernelspec": {
   "display_name": "Python 2",
   "language": "python",
   "name": "python2"
  },
  "language_info": {
   "codemirror_mode": {
    "name": "ipython",
    "version": 2
   },
   "file_extension": ".py",
   "mimetype": "text/x-python",
   "name": "python",
   "nbconvert_exporter": "python",
   "pygments_lexer": "ipython2",
   "version": "2.7.11"
  }
 },
 "nbformat": 4,
 "nbformat_minor": 0
}
