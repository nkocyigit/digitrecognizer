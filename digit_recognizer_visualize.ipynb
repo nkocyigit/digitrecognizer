{
 "cells": [
  {
   "cell_type": "code",
   "execution_count": null,
   "metadata": {
    "collapsed": true
   },
   "outputs": [],
   "source": [
    "# nihat kocyigit [nihatkoc@gmail.com] [@nihat_developer]\n",
    "# this application visualizes famous hand written digit dataset from kaggle.com\n",
    "# in order to run application \n",
    "# train.csv [https://www.kaggle.com/c/digit-recognizer/download/train.csv]\n",
    "# test.csv  [https://www.kaggle.com/c/digit-recognizer/download/test.csv]\n",
    "# files should be downloaded and saved under \"dataset\" directory\n",
    "# code will make a directory called \"digits\" and will save all digit images\n",
    "# under \"digits\" directory in .png format\n"
   ]
  },
  {
   "cell_type": "code",
   "execution_count": null,
   "metadata": {
    "collapsed": false
   },
   "outputs": [],
   "source": [
    "# load data and remove header row (cell titles)\n",
    "# there are 42000 rows and 785 columns in train.csv file\n",
    "# each row represents data for one training sample\n",
    "# each training sample (hand written digit image) is 28x28 pixel size\n",
    "# 28 x 28 = 784 pixels, each cell contains one pixel data in range of [0..255]\n",
    "# first cell of each row represents digit number\n",
    "# eg. 8,0,0,123,122,120...... -> each pixel data is given for hand written digit 8\n",
    "\n",
    "import numpy as np\n",
    "import csv\n",
    "\n",
    "# load comma seperated csv data into numpy array\n",
    "digit_data = np.genfromtxt('dataset/train.csv', delimiter=',')\n",
    "# first row contains title labels eg. \"pixel0\",\"pixel1\"....\"pixel784\", we will remove it\n",
    "digit_data = np.delete(digit_data,0,0)\n",
    "\n",
    "print(\"data load ok ...\")"
   ]
  },
  {
   "cell_type": "code",
   "execution_count": null,
   "metadata": {
    "collapsed": false
   },
   "outputs": [],
   "source": [
    "# the code in this cell generates image from train data and saves under \"digits\" directory\n",
    "# if you do not want to visualize all images do not run code in this cell\n",
    "\n",
    "from scipy import misc\n",
    "import shutil\n",
    "import time\n",
    "import os\n",
    "from IPython.display import display, clear_output, Image\n",
    "import numpy as np\n",
    "\n",
    "IMG_PIXEL_WIDTH  = 28\n",
    "IMG_PIXEL_HEIGHT = 28\n",
    "\n",
    "# a counter for counting samples per digit\n",
    "digit_sample_counter = np.array([0,0,0,0,0,0,0,0,0,0])\n",
    "\n",
    "# will store generated images under \"digits\" directory\n",
    "# if directory already exists then remove it\n",
    "if(os.path.exists(\"digits\")):\n",
    "    shutil.rmtree(\"digits\")\n",
    "\n",
    "# create directory of \"digits\"\n",
    "os.makedirs(\"digits\")\n",
    "\n",
    "# number of images given in train.csv\n",
    "sample_count = len(digit_data)\n",
    "\n",
    "for i in range(0,sample_count):\n",
    "    # first cell of row contains digit name eg. 8\n",
    "    # convert the data to integer\n",
    "    digit_name = int(digit_data[i,0])\n",
    "    # increment the counter for given digit\n",
    "    digit_sample_counter[digit_name] = digit_sample_counter[digit_name] + 1\n",
    "    # load row data from digit_data starting from index 1 to the end, all pixel data of the image\n",
    "    # also shape the numpy array according to IMG_PIXEL_HEIGHT and IMG_PIXEL_WIDTH\n",
    "    row_data = digit_data[i,1:,].reshape((IMG_PIXEL_HEIGHT,IMG_PIXEL_WIDTH))\n",
    "    # save the image in png format\n",
    "    misc.imsave(\"digits/%01d_%04d.png\" %(digit_name, digit_sample_counter[digit_name]), row_data)\n",
    "    # for showing the progress print the processed row count with a small time delay\n",
    "    time.sleep(0.005)\n",
    "    clear_output(wait=True)\n",
    "    print \"%05d/%05d\" %((i+1),sample_count)\n",
    "    # if you want to preview image while saving it uncomment following lines\n",
    "    # also delay time should be updated according to image preview process\n",
    "    #imgfile = 'digits/%01d_%04d.png' %(digit_name, digit_sample_counter[digit_name])\n",
    "    #display(Image(filename=imgfile))\n",
    "    "
   ]
  },
  {
   "cell_type": "code",
   "execution_count": null,
   "metadata": {
    "collapsed": false,
    "scrolled": true
   },
   "outputs": [],
   "source": [
    "# load comma seperated csv format test data into numpy array\n",
    "test_data = np.genfromtxt('dataset/test.csv', delimiter=',')\n",
    "\n",
    "test_data = np.delete(test_data,0,0)"
   ]
  },
  {
   "cell_type": "code",
   "execution_count": null,
   "metadata": {
    "collapsed": false
   },
   "outputs": [],
   "source": [
    "# train phase\n",
    "# the code in this cell trains the model using KNN model\n",
    "# run this code just once to create your trained KNN model\n",
    "\n",
    "from sklearn.neighbors import KNeighborsClassifier\n",
    "\n",
    "# X for features\n",
    "X = digit_data[:,1:]\n",
    "# y for labels\n",
    "y = digit_data[:,0:1]\n",
    "\n",
    "knn = KNeighborsClassifier(n_neighbors=3, metric='euclidean')\n",
    "\n",
    "# print the model parameters\n",
    "print(knn)\n",
    "\n",
    "knn.fit(X,y)\n",
    "\n",
    "print(\"training ok ...\")\n"
   ]
  },
  {
   "cell_type": "code",
   "execution_count": 64,
   "metadata": {
    "collapsed": false
   },
   "outputs": [
    {
     "data": {
      "image/png": "[encoded data removed]",
      "text/plain": [
       "<PIL.Image.Image image mode=L size=28x28 at 0x7723CC0>"
      ]
     },
     "metadata": {},
     "output_type": "display_data"
    },
    {
     "name": "stdout",
     "output_type": "stream",
     "text": [
      "prediction : 8\n"
     ]
    },
    {
     "name": "stderr",
     "output_type": "stream",
     "text": [
      "C:\\Anaconda2\\lib\\site-packages\\sklearn\\utils\\validation.py:386: DeprecationWarning: Passing 1d arrays as data is deprecated in 0.17 and willraise ValueError in 0.19. Reshape your data either using X.reshape(-1, 1) if your data has a single feature or X.reshape(1, -1) if it contains a single sample.\n",
      "  DeprecationWarning)\n"
     ]
    }
   ],
   "source": [
    "import scipy.misc as misc\n",
    "from IPython.display import display\n",
    "\n",
    "IMG_PIXEL_WIDTH  = 28\n",
    "IMG_PIXEL_HEIGHT = 28\n",
    "\n",
    "# sample id from test data set\n",
    "sample_id_to_predict = 1349\n",
    "\n",
    "#visualize the selected test image\n",
    "test_data_row = test_data[sample_id_to_predict].reshape((IMG_PIXEL_HEIGHT,IMG_PIXEL_WIDTH))\n",
    "img = misc.toimage( test_data_row )       \n",
    "display(img)\n",
    "\n",
    "prediction = knn.predict(test_data[sample_id_to_predict])\n",
    "\n",
    "print(\"prediction : %d\" %(prediction))"
   ]
  }
 ],
 "metadata": {
  "kernelspec": {
   "display_name": "Python 2",
   "language": "python",
   "name": "python2"
  },
  "language_info": {
   "codemirror_mode": {
    "name": "ipython",
    "version": 2
   },
   "file_extension": ".py",
   "mimetype": "text/x-python",
   "name": "python",
   "nbconvert_exporter": "python",
   "pygments_lexer": "ipython2",
   "version": "2.7.11"
  }
 },
 "nbformat": 4,
 "nbformat_minor": 0
}
